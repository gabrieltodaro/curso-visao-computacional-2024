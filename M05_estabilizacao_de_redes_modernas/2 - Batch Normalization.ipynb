{
 "cells": [
  {
   "cell_type": "markdown",
   "metadata": {},
   "source": [
    "# Estabilizando rede neurais - Batch Normalization"
   ]
  },
  {
   "cell_type": "markdown",
   "metadata": {},
   "source": [
    "### Problemas com redes profundas"
   ]
  },
  {
   "cell_type": "code",
   "execution_count": 1,
   "metadata": {},
   "outputs": [
    {
     "data": {
      "text/plain": [
       "Model(\n",
       "  (layers): ModuleList(\n",
       "    (0): Conv2d(1, 16, kernel_size=(3, 3), stride=(1, 1), padding=(1, 1), bias=False)\n",
       "    (1): ReLU()\n",
       "    (2): Conv2d(16, 16, kernel_size=(3, 3), stride=(1, 1), padding=(1, 1), bias=False)\n",
       "    (3): ReLU()\n",
       "    (4): Conv2d(16, 16, kernel_size=(3, 3), stride=(1, 1), padding=(1, 1), bias=False)\n",
       "    (5): ReLU()\n",
       "    (6): Conv2d(16, 16, kernel_size=(3, 3), stride=(1, 1), padding=(1, 1), bias=False)\n",
       "    (7): ReLU()\n",
       "    (8): Conv2d(16, 16, kernel_size=(3, 3), stride=(1, 1), padding=(1, 1), bias=False)\n",
       "    (9): ReLU()\n",
       "    (10): Conv2d(16, 16, kernel_size=(3, 3), stride=(1, 1), padding=(1, 1), bias=False)\n",
       "    (11): ReLU()\n",
       "    (12): Conv2d(16, 16, kernel_size=(3, 3), stride=(1, 1), padding=(1, 1), bias=False)\n",
       "    (13): ReLU()\n",
       "    (14): Conv2d(16, 16, kernel_size=(3, 3), stride=(1, 1), padding=(1, 1), bias=False)\n",
       "    (15): ReLU()\n",
       "    (16): Conv2d(16, 16, kernel_size=(3, 3), stride=(1, 1), padding=(1, 1), bias=False)\n",
       "    (17): ReLU()\n",
       "    (18): Conv2d(16, 16, kernel_size=(3, 3), stride=(1, 1), padding=(1, 1), bias=False)\n",
       "    (19): ReLU()\n",
       "  )\n",
       "  (pool): AdaptiveMaxPool2d(output_size=1)\n",
       "  (fc): Linear(in_features=16, out_features=10, bias=True)\n",
       ")"
      ]
     },
     "execution_count": 1,
     "metadata": {},
     "output_type": "execute_result"
    }
   ],
   "source": [
    "import matplotlib.pyplot as plt\n",
    "import torch\n",
    "from torch import nn\n",
    "\n",
    "def conv3x3(in_channels, out_channels):\n",
    "    \"\"\"Cria camada convolucional com filtro de tamanho 3 e sem bias.\"\"\"\n",
    "    return nn.Conv2d(in_channels, \n",
    "                     out_channels, \n",
    "                     kernel_size = 3,\n",
    "                     padding = 1, \n",
    "                     bias = False)\n",
    "\n",
    "class Model(nn.Module):\n",
    "    '''Modelo com `num_layers` camadas convolucionais, cada uma com `num_channels` canais.'''\n",
    "    def __init__(self, num_layers, num_channels):\n",
    "        super().__init__()\n",
    "        \n",
    "        layers = [\n",
    "            conv3x3(1, num_channels),\n",
    "            # ReLU é a função de ativação. Ela zera valores negativos, tornando a \n",
    "            # rede neural mais eficiente, que aprenda padrões mais complexos,\n",
    "            # diminuindo o vanish gradient.\n",
    "            nn.ReLU()\n",
    "        ]\n",
    "        for idx in range(1, num_layers):\n",
    "            layers.append(conv3x3(num_channels, num_channels))\n",
    "            layers.append(nn.ReLU())\n",
    "\n",
    "        # É necessário adicionar as camadas dentro do ModuleList, para que o PyTorch entenda isso como camadas\n",
    "        # e parametros. Sem isso, o otimização dará problema.\n",
    "        self.layers = nn.ModuleList(layers)\n",
    "\n",
    "        # Ajusta saída de 1x1, deixando a cargo da Rede Neural (NN) adaptar os parâmetros internos\n",
    "        self.pool = nn.AdaptiveMaxPool2d(1)\n",
    "\n",
    "        # FC = Fully Connected\n",
    "        # Camada linear que recebe entrada de tamanho features e gera 10 valores de saída\n",
    "        self.fc = nn.Linear(num_channels, 10)\n",
    "\n",
    "    def forward(self, x):\n",
    "        '''Além de calcular o resultado, este método retorna as ativações\n",
    "        intermediárias da rede.'''\n",
    "        acts = []\n",
    "        for layer in self.layers:\n",
    "            x = layer(x)\n",
    "            acts.append(x)\n",
    "\n",
    "        x = self.pool(x)\n",
    "\n",
    "        # Transformação das imagens de tamanho bs x features x 1 x 1 para bs x features\n",
    "        x = x.reshape(x.shape[0], -1)\n",
    "        x = self.fc(x)\n",
    "\n",
    "        return x, acts\n",
    "    \n",
    "model = Model(10, 16)\n",
    "\n",
    "# Desabilita cálculo de gradientes, pois não será usado neste notebook\n",
    "model.requires_grad_(False)\n",
    "model"
   ]
  },
  {
   "cell_type": "markdown",
   "metadata": {},
   "source": [
    "Execute a célula abaixo diversas vezes com ctrl+enter. A saída da rede é sempre a mesma!"
   ]
  },
  {
   "cell_type": "code",
   "execution_count": 2,
   "metadata": {},
   "outputs": [
    {
     "name": "stdout",
     "output_type": "stream",
     "text": [
      "tensor([[[[5.5132e-01, 9.2182e-02, 3.4766e-01, 4.6120e-01, 7.1061e-01,\n",
      "           9.4458e-01, 8.5787e-01, 5.7747e-01, 1.0347e-01, 6.8725e-01,\n",
      "           4.9610e-01, 1.8163e-01, 1.2905e-01, 5.2382e-01, 8.0277e-01,\n",
      "           9.1036e-01, 4.8729e-01, 4.7766e-01, 6.8734e-01, 5.0653e-01,\n",
      "           4.2477e-01, 1.6121e-01, 9.1011e-01, 7.3330e-01, 6.7073e-01,\n",
      "           8.7061e-01, 7.7629e-02, 2.4512e-01],\n",
      "          [5.6668e-01, 2.9699e-01, 6.3261e-01, 9.8459e-01, 8.3876e-02,\n",
      "           3.2608e-01, 6.7757e-01, 6.9928e-01, 4.1459e-01, 1.4536e-01,\n",
      "           2.4381e-01, 3.6337e-01, 6.2453e-01, 4.9926e-01, 4.6512e-01,\n",
      "           7.6876e-02, 2.9985e-03, 9.0324e-01, 8.7338e-02, 1.5715e-01,\n",
      "           8.4156e-04, 6.8754e-01, 8.7722e-01, 2.7529e-01, 5.3823e-02,\n",
      "           5.8999e-01, 5.2057e-02, 6.3285e-01],\n",
      "          [8.8081e-01, 1.5229e-01, 6.9976e-01, 6.6287e-01, 8.2993e-01,\n",
      "           9.3495e-01, 9.9753e-01, 6.6614e-01, 7.1341e-01, 5.1803e-01,\n",
      "           5.0974e-01, 7.0942e-01, 8.6978e-01, 9.1857e-01, 8.4779e-01,\n",
      "           6.5057e-01, 6.6340e-01, 3.7131e-01, 9.8538e-01, 6.4782e-01,\n",
      "           8.5990e-01, 7.4062e-01, 1.8869e-01, 6.7926e-01, 5.6839e-01,\n",
      "           2.9805e-01, 1.9846e-01, 1.9408e-01],\n",
      "          [2.3111e-01, 5.3485e-01, 6.6403e-01, 7.4423e-01, 7.0605e-01,\n",
      "           2.6862e-01, 1.7489e-01, 3.0830e-01, 9.7234e-01, 1.5461e-01,\n",
      "           1.3666e-01, 3.7655e-01, 8.0171e-01, 7.6195e-01, 7.9193e-01,\n",
      "           6.7172e-01, 1.1914e-02, 9.9318e-01, 1.4695e-02, 2.0559e-02,\n",
      "           1.8505e-01, 6.9271e-02, 8.1419e-01, 9.2296e-01, 7.1154e-01,\n",
      "           2.9607e-03, 6.1609e-01, 6.3229e-01],\n",
      "          [4.4887e-01, 7.5534e-01, 5.4438e-01, 2.8219e-01, 2.0316e-01,\n",
      "           7.3202e-01, 3.8583e-01, 8.8981e-01, 1.4609e-01, 2.0365e-01,\n",
      "           9.7459e-01, 2.5806e-01, 3.7151e-01, 5.1255e-01, 3.7232e-02,\n",
      "           6.3476e-01, 7.2680e-01, 6.8844e-01, 2.2749e-01, 1.3795e-01,\n",
      "           2.4140e-01, 8.1029e-01, 8.4147e-01, 6.6251e-01, 9.5165e-01,\n",
      "           7.5420e-01, 8.4123e-01, 6.7065e-01],\n",
      "          [2.3064e-01, 4.6241e-01, 5.1163e-02, 8.6156e-01, 6.4613e-01,\n",
      "           3.8043e-01, 7.4573e-01, 8.7462e-01, 9.8680e-01, 7.1051e-01,\n",
      "           7.3734e-01, 9.2859e-01, 1.6829e-01, 8.9252e-02, 3.2313e-01,\n",
      "           5.3544e-01, 8.3006e-01, 7.5982e-01, 4.7594e-02, 3.0498e-01,\n",
      "           3.4034e-01, 9.6047e-01, 2.8780e-01, 4.8735e-01, 7.2074e-01,\n",
      "           5.1977e-01, 5.1346e-01, 1.1790e-01],\n",
      "          [5.7891e-01, 7.3790e-01, 2.1830e-01, 8.8292e-01, 9.0335e-01,\n",
      "           4.7365e-01, 1.9624e-01, 4.6491e-01, 2.4118e-01, 7.8202e-01,\n",
      "           7.5645e-01, 1.4630e-02, 8.8614e-01, 3.5030e-01, 8.7041e-01,\n",
      "           8.4998e-01, 1.0874e-01, 6.9175e-01, 7.1906e-01, 3.5242e-01,\n",
      "           4.0626e-01, 8.9701e-01, 5.8823e-01, 4.6270e-01, 8.8033e-01,\n",
      "           8.2418e-01, 3.0611e-01, 9.9500e-01],\n",
      "          [2.5899e-01, 4.9949e-01, 9.0326e-01, 5.9895e-01, 1.6756e-01,\n",
      "           9.8855e-01, 1.9557e-01, 6.0133e-01, 2.6488e-01, 3.7001e-02,\n",
      "           5.7358e-01, 9.0417e-01, 7.8372e-01, 6.0712e-01, 1.2988e-01,\n",
      "           2.9950e-02, 8.5158e-01, 5.3337e-01, 7.3511e-01, 8.8186e-01,\n",
      "           1.4520e-01, 9.8931e-01, 7.6686e-01, 4.3311e-01, 6.4628e-01,\n",
      "           5.2929e-01, 9.2768e-02, 3.1977e-02],\n",
      "          [4.4775e-01, 6.0081e-01, 4.1877e-01, 2.2308e-01, 5.5749e-01,\n",
      "           4.3653e-02, 4.7223e-01, 3.3237e-01, 2.2934e-01, 4.2578e-01,\n",
      "           4.8148e-01, 7.9149e-01, 2.8161e-01, 6.9686e-01, 2.8127e-02,\n",
      "           6.5256e-01, 8.6146e-01, 4.7644e-01, 9.9087e-02, 6.7659e-01,\n",
      "           9.6860e-01, 5.2958e-01, 9.2981e-01, 9.8878e-01, 5.9147e-01,\n",
      "           7.0341e-01, 1.7775e-01, 6.2063e-01],\n",
      "          [5.2293e-01, 4.5066e-01, 8.7803e-01, 2.2539e-01, 1.5537e-02,\n",
      "           5.2121e-01, 7.1498e-01, 1.3618e-01, 8.1169e-01, 2.2429e-01,\n",
      "           1.4193e-01, 3.2522e-01, 3.1100e-01, 1.9678e-01, 2.1646e-01,\n",
      "           7.1927e-01, 3.1221e-01, 5.8666e-01, 4.8708e-01, 1.1942e-01,\n",
      "           8.1176e-01, 1.4736e-01, 4.2014e-01, 4.9208e-01, 5.7357e-01,\n",
      "           5.3434e-01, 7.9452e-01, 2.1568e-01],\n",
      "          [1.6337e-01, 1.1156e-01, 8.6155e-01, 7.9394e-01, 6.1877e-01,\n",
      "           9.6122e-01, 8.9690e-01, 8.2659e-01, 1.9673e-01, 1.1523e-01,\n",
      "           7.0575e-01, 3.4655e-01, 9.9696e-01, 5.0500e-01, 3.3722e-01,\n",
      "           8.6937e-01, 7.6114e-01, 8.1380e-01, 3.8625e-01, 7.3822e-01,\n",
      "           7.8653e-01, 5.4925e-01, 6.6666e-02, 7.2338e-01, 3.6336e-01,\n",
      "           6.3101e-02, 8.0671e-01, 3.0066e-01],\n",
      "          [4.6975e-01, 1.7711e-02, 7.0253e-01, 6.1951e-01, 1.1098e-01,\n",
      "           7.4561e-01, 4.5818e-01, 8.5880e-02, 5.0166e-01, 1.7113e-01,\n",
      "           7.8588e-01, 6.4791e-01, 7.2059e-01, 7.5841e-01, 4.5676e-01,\n",
      "           6.7241e-01, 7.4252e-01, 8.7732e-01, 5.6023e-01, 5.1070e-02,\n",
      "           1.0444e-01, 4.8552e-01, 6.6192e-01, 4.6339e-01, 8.9995e-01,\n",
      "           3.8596e-01, 3.7308e-01, 1.6165e-01],\n",
      "          [6.7475e-01, 6.3473e-01, 8.3485e-01, 7.4316e-01, 6.9053e-01,\n",
      "           3.9623e-02, 6.3949e-01, 1.7069e-01, 1.4093e-01, 3.5257e-01,\n",
      "           1.9594e-01, 8.7179e-01, 1.8756e-01, 7.5123e-02, 3.0124e-01,\n",
      "           9.9794e-01, 2.7179e-01, 2.8472e-01, 7.2376e-01, 2.2049e-01,\n",
      "           6.1368e-01, 7.8667e-01, 8.0113e-01, 4.9303e-01, 4.2438e-01,\n",
      "           8.4271e-01, 6.3247e-01, 6.4843e-01],\n",
      "          [7.4920e-01, 4.0837e-01, 6.0602e-01, 2.5371e-01, 5.5562e-01,\n",
      "           3.6853e-02, 9.4362e-01, 9.1043e-01, 4.8291e-01, 1.6847e-02,\n",
      "           9.6791e-01, 5.4571e-01, 1.9376e-01, 6.3512e-02, 5.2070e-01,\n",
      "           2.7982e-01, 2.7212e-01, 9.5195e-02, 2.2429e-01, 2.9445e-01,\n",
      "           6.8613e-01, 4.8357e-01, 9.9517e-01, 2.5041e-01, 8.4592e-01,\n",
      "           3.7600e-02, 4.4336e-02, 2.2772e-01],\n",
      "          [1.5434e-01, 4.9492e-01, 8.3265e-01, 1.7439e-01, 3.4190e-01,\n",
      "           3.1952e-01, 6.3137e-01, 1.8842e-01, 8.8490e-01, 9.0930e-01,\n",
      "           2.7893e-01, 9.2314e-01, 8.4268e-01, 2.2469e-01, 6.1688e-01,\n",
      "           4.0972e-01, 9.4904e-01, 4.3585e-01, 7.9542e-01, 8.9935e-01,\n",
      "           6.3883e-01, 5.9361e-01, 9.5454e-01, 3.2208e-01, 9.5142e-01,\n",
      "           5.4462e-01, 1.8911e-02, 4.4120e-02],\n",
      "          [9.5717e-01, 2.1914e-01, 7.5248e-01, 5.3298e-01, 4.5023e-01,\n",
      "           3.3773e-01, 2.1638e-01, 7.1045e-01, 9.8949e-01, 8.1621e-01,\n",
      "           6.6233e-01, 4.5349e-01, 1.6269e-01, 8.1307e-01, 5.6595e-01,\n",
      "           9.2752e-01, 1.4684e-01, 9.5323e-01, 6.0961e-01, 7.7611e-01,\n",
      "           2.1287e-01, 6.6021e-01, 2.9121e-01, 7.0916e-02, 1.1147e-01,\n",
      "           5.8123e-02, 9.2337e-01, 1.1752e-01],\n",
      "          [8.3979e-01, 6.9390e-02, 6.5194e-01, 4.3730e-01, 4.7072e-01,\n",
      "           2.0053e-01, 4.2764e-01, 5.6542e-01, 8.2730e-01, 7.1277e-01,\n",
      "           1.9731e-01, 8.4261e-01, 6.5511e-01, 4.3691e-01, 9.7768e-01,\n",
      "           8.5393e-01, 8.4835e-01, 2.8161e-01, 7.7785e-02, 1.6973e-01,\n",
      "           6.2386e-02, 4.0483e-01, 2.9386e-01, 7.1857e-01, 9.3819e-01,\n",
      "           7.6357e-01, 3.5679e-01, 4.0393e-01],\n",
      "          [2.2555e-01, 4.1681e-01, 3.3541e-01, 3.3711e-01, 7.4032e-01,\n",
      "           2.4235e-01, 5.5883e-01, 1.3381e-01, 9.3611e-01, 1.7705e-01,\n",
      "           7.8077e-01, 6.3872e-01, 2.5082e-01, 2.6957e-01, 4.3891e-01,\n",
      "           1.3643e-01, 7.2341e-03, 9.9973e-01, 4.1168e-01, 5.1773e-01,\n",
      "           6.0062e-01, 7.7199e-01, 4.4619e-01, 4.7442e-01, 2.4371e-01,\n",
      "           8.2662e-01, 8.9969e-02, 9.9857e-02],\n",
      "          [2.8811e-01, 1.7618e-01, 4.3983e-01, 7.1621e-01, 3.3667e-01,\n",
      "           7.6739e-01, 9.6048e-01, 9.8823e-01, 7.8867e-01, 8.7646e-01,\n",
      "           4.5029e-01, 3.8395e-01, 5.7840e-01, 1.1265e-01, 5.0237e-01,\n",
      "           8.0909e-01, 8.8000e-01, 3.0156e-01, 1.7252e-01, 1.2633e-01,\n",
      "           5.8992e-01, 3.4566e-01, 3.7256e-01, 7.0185e-02, 1.0245e-01,\n",
      "           2.9906e-01, 9.4263e-01, 6.7449e-01],\n",
      "          [1.5060e-01, 2.9774e-01, 8.0801e-01, 1.1257e-01, 3.6009e-01,\n",
      "           5.8701e-01, 2.6506e-01, 1.7728e-01, 2.2885e-01, 3.2749e-01,\n",
      "           8.9578e-01, 8.0973e-01, 5.6827e-01, 8.6066e-01, 4.7445e-01,\n",
      "           9.9888e-01, 5.4159e-01, 9.3648e-01, 2.8141e-01, 6.4578e-01,\n",
      "           5.8634e-01, 6.3395e-01, 8.8184e-01, 4.8242e-02, 4.7102e-01,\n",
      "           5.5973e-01, 1.5408e-01, 8.4340e-01],\n",
      "          [1.6714e-02, 9.0163e-02, 2.1359e-01, 8.0967e-01, 8.2612e-01,\n",
      "           7.6289e-01, 5.3809e-01, 4.2022e-01, 8.2644e-01, 2.1023e-01,\n",
      "           8.0844e-01, 3.5474e-01, 5.2922e-01, 1.1787e-01, 7.9254e-01,\n",
      "           5.4433e-01, 9.8655e-02, 3.6561e-01, 9.8974e-01, 2.6572e-01,\n",
      "           4.2490e-01, 7.7190e-01, 5.1074e-01, 5.7586e-01, 8.1725e-01,\n",
      "           5.3918e-01, 8.0820e-01, 3.5186e-01],\n",
      "          [7.4935e-01, 9.7218e-01, 4.8125e-04, 1.4565e-01, 7.7165e-01,\n",
      "           9.4476e-01, 1.9273e-01, 6.7582e-01, 6.6273e-01, 1.4098e-01,\n",
      "           3.4842e-01, 9.4177e-01, 5.3779e-01, 4.7194e-01, 9.4396e-01,\n",
      "           9.3117e-01, 6.3801e-01, 8.3719e-01, 3.5540e-01, 5.8133e-01,\n",
      "           1.5999e-02, 5.2263e-01, 1.5984e-01, 9.4739e-01, 5.3934e-01,\n",
      "           9.3894e-01, 1.0882e-01, 9.6947e-01],\n",
      "          [5.0392e-02, 7.5663e-01, 3.9219e-01, 9.7249e-01, 8.4219e-02,\n",
      "           4.1880e-01, 1.9965e-01, 4.1003e-02, 3.3408e-01, 2.7174e-01,\n",
      "           2.9792e-01, 6.7144e-01, 7.3861e-01, 9.9591e-01, 8.8595e-01,\n",
      "           7.9114e-01, 7.8567e-01, 7.9686e-01, 3.9220e-01, 7.4929e-01,\n",
      "           1.1429e-01, 5.8911e-01, 3.3591e-01, 3.0618e-01, 3.9063e-01,\n",
      "           7.4895e-01, 4.3468e-02, 9.0164e-01],\n",
      "          [4.3986e-01, 9.0638e-01, 9.6749e-01, 9.2948e-01, 1.6172e-01,\n",
      "           9.5882e-01, 6.6894e-02, 5.8332e-01, 2.1142e-01, 8.4209e-01,\n",
      "           3.9733e-01, 3.0922e-02, 3.3271e-01, 1.9294e-01, 1.6503e-01,\n",
      "           1.6833e-01, 8.1969e-01, 5.8359e-01, 8.7419e-01, 7.4732e-01,\n",
      "           9.0082e-01, 6.6319e-01, 2.3528e-01, 8.5755e-01, 5.4248e-01,\n",
      "           1.4458e-01, 6.9758e-01, 4.0781e-01],\n",
      "          [9.3060e-01, 2.3170e-01, 9.6883e-01, 5.4579e-01, 7.2162e-01,\n",
      "           2.2457e-02, 6.8914e-01, 1.0187e-02, 4.2801e-01, 5.3038e-01,\n",
      "           4.2761e-01, 8.3751e-01, 8.8638e-02, 3.0080e-02, 8.2426e-01,\n",
      "           1.8605e-01, 8.2741e-01, 1.2800e-01, 2.9271e-01, 4.8297e-01,\n",
      "           7.3998e-01, 5.7359e-01, 4.6973e-01, 7.0731e-01, 9.3402e-01,\n",
      "           9.1867e-01, 1.1945e-01, 6.6530e-01],\n",
      "          [7.0144e-02, 1.5093e-01, 4.3845e-01, 2.8937e-01, 5.0610e-01,\n",
      "           7.5445e-01, 2.9825e-01, 7.6114e-02, 5.5389e-01, 4.9361e-01,\n",
      "           3.7606e-02, 1.8173e-01, 5.2769e-01, 7.9913e-01, 2.6931e-01,\n",
      "           1.3799e-01, 6.0743e-01, 5.2245e-01, 9.7891e-01, 8.1453e-01,\n",
      "           1.0974e-01, 2.5365e-01, 7.9588e-01, 6.6529e-01, 2.1933e-01,\n",
      "           1.2119e-01, 6.8655e-01, 9.5006e-01],\n",
      "          [4.6026e-01, 4.6504e-01, 5.1430e-01, 2.3483e-01, 6.0498e-02,\n",
      "           9.7125e-02, 9.6423e-01, 2.0507e-01, 2.6248e-01, 9.5915e-01,\n",
      "           6.0400e-01, 9.7274e-01, 5.7852e-01, 6.5271e-01, 8.1356e-01,\n",
      "           4.1529e-01, 1.7073e-01, 1.2422e-01, 3.3153e-01, 5.1280e-01,\n",
      "           7.6186e-01, 6.8409e-01, 1.7376e-01, 1.8201e-02, 4.2314e-01,\n",
      "           5.6443e-01, 1.4817e-01, 7.0952e-01],\n",
      "          [1.8656e-02, 7.9486e-01, 9.2861e-01, 9.8605e-01, 5.9165e-01,\n",
      "           7.1037e-01, 7.5433e-01, 1.4961e-01, 8.4733e-01, 9.7218e-01,\n",
      "           5.5166e-01, 9.7785e-02, 2.6319e-03, 7.8941e-01, 5.8968e-01,\n",
      "           4.6062e-01, 6.4687e-01, 4.3703e-01, 6.7551e-01, 4.1110e-01,\n",
      "           2.9543e-01, 5.1335e-01, 5.6512e-02, 9.6888e-01, 5.9739e-01,\n",
      "           4.0794e-01, 8.0751e-01, 6.3116e-02]]]])\n",
      "tensor([0.5513, 0.0922, 0.3477, 0.4612, 0.7106, 0.9446, 0.8579, 0.5775, 0.1035,\n",
      "        0.6873, 0.4961, 0.1816, 0.1291, 0.5238, 0.8028, 0.9104, 0.4873, 0.4777,\n",
      "        0.6873, 0.5065, 0.4248, 0.1612, 0.9101, 0.7333, 0.6707, 0.8706, 0.0776,\n",
      "        0.2451])\n",
      "tensor([[ 0.2178, -0.1092,  0.2456, -0.0371, -0.2153,  0.0555, -0.0775,  0.0808,\n",
      "          0.2372,  0.1859]])\n"
     ]
    }
   ],
   "source": [
    "# rand() retorna números aleatórios, entre 0 e 1, onde:\n",
    "# 1: batch size\n",
    "# 1: número de canais (imagem em escala de cinza)\n",
    "# 28, 28: tamanho da imagem. O mesmo usado para o dataset MNIST\n",
    "x = torch.rand(1, 1, 28, 28)\n",
    "print(x)\n",
    "y, acts = model(x)\n",
    "\n",
    "print(x[0,0,0])\n",
    "print(y)"
   ]
  },
  {
   "cell_type": "markdown",
   "metadata": {},
   "source": [
    "A saída da rede é dada apenas pelo bias da última camada:"
   ]
  },
  {
   "cell_type": "code",
   "execution_count": 3,
   "metadata": {},
   "outputs": [
    {
     "name": "stdout",
     "output_type": "stream",
     "text": [
      "tensor([[ 0.2178, -0.1092,  0.2456, -0.0371, -0.2153,  0.0555, -0.0775,  0.0808,\n",
      "          0.2372,  0.1859]])\n",
      "Parameter containing:\n",
      "tensor([ 0.2178, -0.1092,  0.2457, -0.0371, -0.2153,  0.0554, -0.0775,  0.0808,\n",
      "         0.2372,  0.1859])\n"
     ]
    }
   ],
   "source": [
    "print(y)\n",
    "print(model.fc.bias)"
   ]
  },
  {
   "cell_type": "markdown",
   "metadata": {},
   "source": [
    "Plotando a média e desvio padrão das ativações intermediárias da rede, vemos que os valores caem para zero:"
   ]
  },
  {
   "cell_type": "code",
   "execution_count": 4,
   "metadata": {},
   "outputs": [
    {
     "data": {
      "image/png": "[encoded data removed]",
      "text/plain": [
       "<Figure size 640x480 with 1 Axes>"
      ]
     },
     "metadata": {},
     "output_type": "display_data"
    }
   ],
   "source": [
    "def show_activations(acts):\n",
    "    act_mean = []\n",
    "    act_std = []\n",
    "    for act in acts:\n",
    "        act = act.detach()\n",
    "        act_mean.append(act.mean())\n",
    "        act_std.append(act.std())\n",
    "\n",
    "    plt.plot(act_mean)\n",
    "    plt.plot(act_std)\n",
    "    plt.xlabel('Network depth')\n",
    "\n",
    "show_activations(acts)"
   ]
  },
  {
   "cell_type": "markdown",
   "metadata": {},
   "source": [
    "Essencialmente, a operação que uma rede neural faz é dada por:"
   ]
  },
  {
   "cell_type": "code",
   "execution_count": 5,
   "metadata": {},
   "outputs": [
    {
     "name": "stdout",
     "output_type": "stream",
     "text": [
      "tensor([3.4363e+30, 3.2546e+30, 3.0196e+30, 3.7422e+30, 3.0567e+30, 3.0390e+30,\n",
      "        3.4760e+30, 2.7025e+30, 2.5884e+30, 2.6365e+30])\n"
     ]
    }
   ],
   "source": [
    "# Batch de dados\n",
    "x = torch.rand(10)\n",
    "\n",
    "# Parâmetros das camadas\n",
    "weight = 2.\n",
    "bias = 2.\n",
    "\n",
    "# 100 camadas\n",
    "for i in range(100):\n",
    "    x = weight * x + bias\n",
    "\n",
    "print(x)"
   ]
  },
  {
   "cell_type": "markdown",
   "metadata": {},
   "source": [
    "Tente achar valores de `weight` e `bias` que não levem o valor de x acima a 0, infinito ou algum valor trivial."
   ]
  },
  {
   "cell_type": "markdown",
   "metadata": {},
   "source": [
    "### Batch Normalization"
   ]
  },
  {
   "cell_type": "markdown",
   "metadata": {},
   "source": [
    "Ao normalizarmos os valores, as ativações se tornam bem comportadas!"
   ]
  },
  {
   "cell_type": "code",
   "execution_count": 6,
   "metadata": {},
   "outputs": [
    {
     "name": "stdout",
     "output_type": "stream",
     "text": [
      "tensor([ 0.2996, -1.0784,  1.9673, -1.1254,  0.4581,  0.6245, -1.0376,  0.7002,\n",
      "        -0.6459, -0.1626])\n"
     ]
    }
   ],
   "source": [
    "def normalization(x):\n",
    "    mean = x.mean() # mean = mediana\n",
    "    std = x.std() # std (standard deviation) = desvio padrao\n",
    "    return (x - mean) / std\n",
    "\n",
    "# Batch de dados\n",
    "x = torch.rand(10)\n",
    "\n",
    "# Parâmetros das camadas\n",
    "weight = 20.\n",
    "bias = -10.\n",
    "\n",
    "for i in range(10):\n",
    "    x = weight * x + bias\n",
    "    x = normalization(x)\n",
    "\n",
    "print(x)"
   ]
  },
  {
   "cell_type": "markdown",
   "metadata": {},
   "source": [
    "Mas e se a escala dos valores for relevante para a classificação? Por exemplo, talvez um filtro tenda a gerar valores em torno de 10, enquanto que outro filtro gere valores em torno de 0.1. Essa informação será perdida após a normalização.\n",
    "\n",
    "Uma camada batchnorm permite reescalar os valores caso seja necessário. Os parâmetros de escala são aprendidos durante o treinamento."
   ]
  },
  {
   "cell_type": "code",
   "execution_count": 7,
   "metadata": {},
   "outputs": [
    {
     "data": {
      "text/plain": [
       "tensor([ 1.7618, -0.7297, -0.4407,  0.3476, -0.1991,  1.3330,  0.0378,  0.3371,\n",
       "        -0.9777, -1.4700], grad_fn=<AddBackward0>)"
      ]
     },
     "execution_count": 7,
     "metadata": {},
     "output_type": "execute_result"
    }
   ],
   "source": [
    "class BatchNorm(nn.Module):\n",
    "    def __init__(self):\n",
    "        super().__init__()\n",
    "\n",
    "        # nn.Parameter define um tensor com requires_grad=True e que é registrado \n",
    "        # como parâmetro treinável do modelo\n",
    "        self.weight = nn.Parameter(torch.tensor(1.))\n",
    "        self.bias = nn.Parameter(torch.tensor(0.))\n",
    "\n",
    "        self.eps = 1e-5\n",
    "\n",
    "    def forward(self, x):\n",
    "        mean = x.mean()\n",
    "        var = x.var() # Variância\n",
    "\n",
    "        # eps evita divisão por 0\n",
    "        x_norm = (x - mean) / torch.sqrt(var + self.eps)\n",
    "\n",
    "        # Reescala os valores\n",
    "        y = self.weight * x_norm + self.bias\n",
    "\n",
    "        return y\n",
    "    \n",
    "bn = BatchNorm()\n",
    "bn(100 * torch.rand(10))\n"
   ]
  },
  {
   "cell_type": "markdown",
   "metadata": {},
   "source": [
    "Mas temos um problema. E quando formos aplicar a rede após o treinamento em uma única imagem? Cada camada terá apenas uma única ativação, o que pode ser um problema. Para evitar isso, durante o treinamento podemos armazenar a média e desvio padrão de todos os batches, e usar a estimativa desses parâmetros de todos os batches para normalizar os valores ao aplicar em uma única imagem."
   ]
  },
  {
   "cell_type": "markdown",
   "metadata": {},
   "source": [
    "### Desvendando a camada BatchNorm do Pytorch"
   ]
  },
  {
   "cell_type": "code",
   "execution_count": 8,
   "metadata": {},
   "outputs": [
    {
     "name": "stdout",
     "output_type": "stream",
     "text": [
      "Parameter containing:\n",
      "tensor([1., 1., 1.], requires_grad=True)\n",
      "Parameter containing:\n",
      "tensor([0., 0., 0.], requires_grad=True)\n"
     ]
    }
   ],
   "source": [
    "# Batchnorm aplicado em 3 canais\n",
    "bn = nn.BatchNorm2d(3)\n",
    "print(bn.weight)\n",
    "print(bn.bias)"
   ]
  },
  {
   "cell_type": "markdown",
   "metadata": {},
   "source": [
    "A longo de vários batches, a camada estima a média e variância dos dados:"
   ]
  },
  {
   "cell_type": "code",
   "execution_count": 9,
   "metadata": {},
   "outputs": [
    {
     "name": "stdout",
     "output_type": "stream",
     "text": [
      "mean tensor([1.0002, 1.0000, 1.0003]) var tensor([1.3010, 1.2981, 1.2992])\n",
      "mean tensor([1.9007, 1.9003, 1.9003]) var tensor([1.5711, 1.5682, 1.5675])\n",
      "mean tensor([2.7117, 2.7103, 2.7098]) var tensor([1.8151, 1.8109, 1.8097])\n",
      "mean tensor([3.4406, 3.4387, 3.4391]) var tensor([2.0328, 2.0331, 2.0285])\n",
      "mean tensor([4.0961, 4.0941, 4.0953]) var tensor([2.2299, 2.2315, 2.2254])\n",
      "mean tensor([4.6870, 4.6842, 4.6861]) var tensor([2.4057, 2.4096, 2.4043])\n",
      "mean tensor([5.2184, 5.2156, 5.2175]) var tensor([2.5640, 2.5683, 2.5638])\n",
      "mean tensor([5.6964, 5.6943, 5.6962]) var tensor([2.7057, 2.7108, 2.7061])\n",
      "mean tensor([6.1255, 6.1252, 6.1271]) var tensor([2.8347, 2.8391, 2.8347])\n",
      "mean tensor([6.5130, 6.5121, 6.5140]) var tensor([2.9515, 2.9549, 2.9509])\n",
      "mean tensor([6.8612, 6.8596, 6.8624]) var tensor([3.0559, 3.0586, 3.0561])\n",
      "mean tensor([7.1746, 7.1738, 7.1762]) var tensor([3.1499, 3.1509, 3.1522])\n",
      "mean tensor([7.4583, 7.4563, 7.4585]) var tensor([3.2356, 3.2363, 3.2367])\n",
      "mean tensor([7.7127, 7.7114, 7.7124]) var tensor([3.3132, 3.3122, 3.3121])\n",
      "mean tensor([7.9420, 7.9406, 7.9416]) var tensor([3.3827, 3.3814, 3.3801])\n",
      "mean tensor([8.1478, 8.1459, 8.1477]) var tensor([3.4451, 3.4433, 3.4399])\n",
      "mean tensor([8.3327, 8.3310, 8.3330]) var tensor([3.4988, 3.4994, 3.4975])\n",
      "mean tensor([8.4995, 8.4984, 8.4995]) var tensor([3.5486, 3.5501, 3.5478])\n",
      "mean tensor([8.6492, 8.6484, 8.6495]) var tensor([3.5948, 3.5969, 3.5942])\n",
      "mean tensor([8.7841, 8.7831, 8.7841]) var tensor([3.6368, 3.6383, 3.6347])\n",
      "mean tensor([8.9062, 8.9056, 8.9058]) var tensor([3.6726, 3.6743, 3.6728])\n",
      "mean tensor([9.0158, 9.0148, 9.0157]) var tensor([3.7047, 3.7052, 3.7059])\n",
      "mean tensor([9.1140, 9.1137, 9.1137]) var tensor([3.7339, 3.7354, 3.7350])\n",
      "mean tensor([9.2027, 9.2022, 9.2029]) var tensor([3.7608, 3.7616, 3.7613])\n",
      "mean tensor([9.2821, 9.2822, 9.2832]) var tensor([3.7838, 3.7854, 3.7855])\n",
      "mean tensor([9.3536, 9.3541, 9.3551]) var tensor([3.8045, 3.8080, 3.8090])\n",
      "mean tensor([9.4180, 9.4184, 9.4199]) var tensor([3.8253, 3.8276, 3.8272])\n",
      "mean tensor([9.4771, 9.4768, 9.4782]) var tensor([3.8433, 3.8429, 3.8424])\n",
      "mean tensor([9.5293, 9.5293, 9.5307]) var tensor([3.8580, 3.8587, 3.8581])\n",
      "mean tensor([9.5765, 9.5773, 9.5774]) var tensor([3.8705, 3.8719, 3.8728])\n",
      "mean tensor([9.6190, 9.6199, 9.6203]) var tensor([3.8815, 3.8841, 3.8865])\n",
      "mean tensor([9.6574, 9.6582, 9.6583]) var tensor([3.8914, 3.8962, 3.8987])\n",
      "mean tensor([9.6915, 9.6927, 9.6924]) var tensor([3.9023, 3.9072, 3.9090])\n",
      "mean tensor([9.7221, 9.7230, 9.7232]) var tensor([3.9134, 3.9176, 3.9183])\n",
      "mean tensor([9.7505, 9.7516, 9.7510]) var tensor([3.9226, 3.9258, 3.9265])\n",
      "mean tensor([9.7751, 9.7762, 9.7755]) var tensor([3.9302, 3.9337, 3.9326])\n",
      "mean tensor([9.7983, 9.7987, 9.7978]) var tensor([3.9391, 3.9421, 3.9380])\n",
      "mean tensor([9.8187, 9.8184, 9.8176]) var tensor([3.9453, 3.9465, 3.9444])\n",
      "mean tensor([9.8374, 9.8363, 9.8353]) var tensor([3.9486, 3.9527, 3.9512])\n",
      "mean tensor([9.8536, 9.8530, 9.8512]) var tensor([3.9534, 3.9577, 3.9556])\n",
      "mean tensor([9.8675, 9.8677, 9.8662]) var tensor([3.9581, 3.9607, 3.9608])\n",
      "mean tensor([9.8814, 9.8808, 9.8793]) var tensor([3.9637, 3.9646, 3.9654])\n",
      "mean tensor([9.8933, 9.8927, 9.8917]) var tensor([3.9673, 3.9690, 3.9697])\n",
      "mean tensor([9.9038, 9.9038, 9.9023]) var tensor([3.9698, 3.9723, 3.9761])\n",
      "mean tensor([9.9137, 9.9137, 9.9129]) var tensor([3.9739, 3.9770, 3.9786])\n",
      "mean tensor([9.9226, 9.9221, 9.9215]) var tensor([3.9796, 3.9787, 3.9792])\n",
      "mean tensor([9.9302, 9.9290, 9.9289]) var tensor([3.9822, 3.9822, 3.9814])\n",
      "mean tensor([9.9371, 9.9362, 9.9353]) var tensor([3.9826, 3.9832, 3.9833])\n",
      "mean tensor([9.9432, 9.9424, 9.9422]) var tensor([3.9853, 3.9848, 3.9865])\n",
      "mean tensor([9.9492, 9.9484, 9.9483]) var tensor([3.9851, 3.9864, 3.9886])\n",
      "mean tensor([9.9535, 9.9536, 9.9534]) var tensor([3.9847, 3.9888, 3.9874])\n",
      "mean tensor([9.9585, 9.9578, 9.9585]) var tensor([3.9857, 3.9867, 3.9895])\n",
      "mean tensor([9.9620, 9.9610, 9.9627]) var tensor([3.9866, 3.9879, 3.9912])\n",
      "mean tensor([9.9654, 9.9648, 9.9660]) var tensor([3.9874, 3.9894, 3.9938])\n",
      "mean tensor([9.9690, 9.9680, 9.9699]) var tensor([3.9886, 3.9911, 3.9959])\n",
      "mean tensor([9.9721, 9.9709, 9.9727]) var tensor([3.9925, 3.9916, 3.9945])\n",
      "mean tensor([9.9753, 9.9732, 9.9755]) var tensor([3.9924, 3.9920, 3.9952])\n",
      "mean tensor([9.9784, 9.9762, 9.9776]) var tensor([3.9931, 3.9934, 3.9958])\n",
      "mean tensor([9.9809, 9.9783, 9.9797]) var tensor([3.9934, 3.9936, 3.9962])\n",
      "mean tensor([9.9821, 9.9800, 9.9810]) var tensor([3.9947, 3.9930, 3.9949])\n",
      "mean tensor([9.9841, 9.9822, 9.9824]) var tensor([3.9937, 3.9943, 3.9964])\n",
      "mean tensor([9.9858, 9.9846, 9.9843]) var tensor([3.9946, 3.9958, 3.9978])\n",
      "mean tensor([9.9865, 9.9862, 9.9862]) var tensor([3.9952, 3.9943, 3.9988])\n",
      "mean tensor([9.9882, 9.9881, 9.9872]) var tensor([3.9955, 3.9942, 3.9985])\n",
      "mean tensor([9.9900, 9.9887, 9.9888]) var tensor([3.9973, 3.9953, 3.9985])\n",
      "mean tensor([9.9913, 9.9898, 9.9896]) var tensor([3.9968, 3.9964, 3.9987])\n",
      "mean tensor([9.9923, 9.9906, 9.9904]) var tensor([3.9971, 3.9957, 4.0001])\n",
      "mean tensor([9.9931, 9.9914, 9.9909]) var tensor([3.9977, 3.9961, 3.9994])\n",
      "mean tensor([9.9937, 9.9923, 9.9913]) var tensor([3.9986, 3.9964, 3.9998])\n",
      "mean tensor([9.9936, 9.9934, 9.9926]) var tensor([3.9993, 3.9977, 4.0009])\n",
      "mean tensor([9.9944, 9.9944, 9.9938]) var tensor([3.9996, 3.9986, 3.9997])\n",
      "mean tensor([9.9953, 9.9947, 9.9944]) var tensor([3.9975, 3.9993, 3.9994])\n",
      "mean tensor([9.9962, 9.9949, 9.9949]) var tensor([3.9955, 3.9999, 3.9989])\n",
      "mean tensor([9.9972, 9.9957, 9.9949]) var tensor([3.9957, 4.0008, 3.9982])\n",
      "mean tensor([9.9968, 9.9961, 9.9957]) var tensor([3.9959, 4.0014, 3.9977])\n",
      "mean tensor([9.9971, 9.9963, 9.9960]) var tensor([3.9977, 4.0009, 3.9981])\n",
      "mean tensor([9.9972, 9.9971, 9.9968]) var tensor([3.9979, 4.0022, 3.9980])\n",
      "mean tensor([9.9973, 9.9979, 9.9966]) var tensor([3.9962, 4.0012, 3.9968])\n",
      "mean tensor([9.9974, 9.9982, 9.9971]) var tensor([3.9958, 3.9993, 3.9977])\n",
      "mean tensor([9.9983, 9.9981, 9.9976]) var tensor([3.9943, 3.9989, 3.9978])\n",
      "mean tensor([9.9986, 9.9974, 9.9975]) var tensor([3.9938, 4.0008, 3.9975])\n",
      "mean tensor([9.9992, 9.9976, 9.9977]) var tensor([3.9938, 4.0021, 3.9977])\n",
      "mean tensor([9.9988, 9.9986, 9.9978]) var tensor([3.9948, 4.0022, 3.9997])\n",
      "mean tensor([9.9993, 9.9990, 9.9983]) var tensor([3.9957, 4.0029, 3.9989])\n",
      "mean tensor([9.9995, 9.9991, 9.9991]) var tensor([3.9981, 4.0017, 3.9991])\n",
      "mean tensor([9.9996, 9.9992, 9.9995]) var tensor([3.9996, 4.0028, 3.9991])\n",
      "mean tensor([ 9.9993, 10.0001,  9.9997]) var tensor([3.9981, 4.0029, 3.9979])\n",
      "mean tensor([9.9993, 9.9998, 9.9994]) var tensor([4.0010, 4.0001, 3.9983])\n",
      "mean tensor([9.9992, 9.9994, 9.9989]) var tensor([4.0001, 4.0003, 3.9992])\n",
      "mean tensor([9.9999, 9.9991, 9.9988]) var tensor([3.9995, 4.0022, 3.9972])\n",
      "mean tensor([10.0000,  9.9984,  9.9989]) var tensor([3.9998, 4.0004, 3.9966])\n",
      "mean tensor([9.9996, 9.9983, 9.9994]) var tensor([4.0001, 4.0007, 3.9966])\n",
      "mean tensor([9.9993, 9.9980, 9.9990]) var tensor([4.0009, 4.0002, 3.9993])\n",
      "mean tensor([9.9989, 9.9982, 9.9989]) var tensor([4.0005, 4.0007, 4.0003])\n",
      "mean tensor([9.9995, 9.9985, 9.9989]) var tensor([4.0006, 3.9992, 3.9999])\n",
      "mean tensor([9.9991, 9.9994, 9.9987]) var tensor([4.0029, 3.9986, 3.9988])\n",
      "mean tensor([9.9992, 9.9996, 9.9984]) var tensor([4.0030, 3.9990, 3.9989])\n",
      "mean tensor([9.9991, 9.9998, 9.9988]) var tensor([4.0045, 3.9989, 3.9969])\n",
      "mean tensor([ 9.9990, 10.0001,  9.9987]) var tensor([4.0053, 4.0000, 3.9964])\n",
      "mean tensor([ 9.9989, 10.0001,  9.9987]) var tensor([4.0041, 3.9999, 3.9988])\n"
     ]
    }
   ],
   "source": [
    "# Cria batches artificiais possuindo 4 imagens cada. Cada imagem possui 3 canais\n",
    "# e tamanho 256x256. Os valores das imagens são aleatórios com média 10 e\n",
    "# desvio padrão 2\n",
    "bs = 4\n",
    "img_shape = (3, 256, 256)\n",
    "batches = []\n",
    "for idx in range(100):\n",
    "    batch = torch.normal(mean = 10, \n",
    "                         std = 2, \n",
    "                         size = (bs, *img_shape))\n",
    "    batches.append(batch)\n",
    "\n",
    "for batch in batches:\n",
    "    _ = bn(batch)\n",
    "    print('mean', bn.running_mean, 'var', bn.running_var)\n",
    "\n"
   ]
  },
  {
   "cell_type": "markdown",
   "metadata": {},
   "source": [
    "Os valores de `running_mean` e `running_var` são utilizados para normalizar os dados. \n",
    "\n",
    "No modo eval, a média estimada é usada quando a camada for aplicada em novos dados:"
   ]
  },
  {
   "cell_type": "code",
   "execution_count": 10,
   "metadata": {},
   "outputs": [
    {
     "name": "stdout",
     "output_type": "stream",
     "text": [
      "tensor(2.5014, grad_fn=<MeanBackward0>)\n"
     ]
    }
   ],
   "source": [
    "# Imagem com média 15 e desvio padrão 2\n",
    "x = torch.normal(mean = 15, \n",
    "                 std = 2, \n",
    "                 size = (1, 3, 256, 256))\n",
    "\n",
    "# Para de treinar o modelo, deixando-o em modo de \"avaliação\"\n",
    "bn.eval()\n",
    "y = bn(x)\n",
    "\n",
    "# A média do resultado deve ser aproximadamente (15-bn.running_mean)/bn.running_var**0.5\n",
    "print(y.mean())"
   ]
  },
  {
   "cell_type": "markdown",
   "metadata": {},
   "source": [
    "Retornando o batchnorm para o modo .train faz com que a camada volte a normalizar pela média e desvio do batch:"
   ]
  },
  {
   "cell_type": "code",
   "execution_count": 11,
   "metadata": {},
   "outputs": [
    {
     "name": "stdout",
     "output_type": "stream",
     "text": [
      "tensor(8.8476e-08, grad_fn=<MeanBackward0>)\n"
     ]
    }
   ],
   "source": [
    "bn.train()\n",
    "y = bn(x)\n",
    "print(y.mean())"
   ]
  }
 ],
 "metadata": {
  "kernelspec": {
   "display_name": "pytorch",
   "language": "python",
   "name": "python3"
  },
  "language_info": {
   "codemirror_mode": {
    "name": "ipython",
    "version": 3
   },
   "file_extension": ".py",
   "mimetype": "text/x-python",
   "name": "python",
   "nbconvert_exporter": "python",
   "pygments_lexer": "ipython3",
   "version": "3.12.2"
  }
 },
 "nbformat": 4,
 "nbformat_minor": 2
}
