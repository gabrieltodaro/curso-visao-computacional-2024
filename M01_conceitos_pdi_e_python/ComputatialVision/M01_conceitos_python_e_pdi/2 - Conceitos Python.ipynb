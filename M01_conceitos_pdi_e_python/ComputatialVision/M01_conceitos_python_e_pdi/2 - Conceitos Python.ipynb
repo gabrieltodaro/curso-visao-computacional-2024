{
 "cells": [
  {
   "cell_type": "markdown",
   "metadata": {},
   "source": [
    "# Conceitos Python"
   ]
  },
  {
   "cell_type": "markdown",
   "metadata": {},
   "source": [
    "## Operadores * e **\n",
    "Operador estrela é uma tupla contendo quaisquer valores passados. Ele empacota os valores em lista (array).\n",
    "Operador dupla estrela é um dicionário, contendo tudo o que for passado, se válido. Ele empacota os valores em dicionário."
   ]
  },
  {
   "cell_type": "code",
   "execution_count": 55,
   "metadata": {},
   "outputs": [
    {
     "data": {
      "text/plain": [
       "[2, 3, 4]"
      ]
     },
     "execution_count": 55,
     "metadata": {},
     "output_type": "execute_result"
    }
   ],
   "source": [
    "vals = [1, 2, 3, 4]\n",
    "a, b, c, d = vals\n",
    "a, *b = vals # Captura os elementos restantes da coleção\n",
    "b"
   ]
  },
  {
   "cell_type": "code",
   "execution_count": 56,
   "metadata": {},
   "outputs": [
    {
     "data": {
      "text/plain": [
       "[1, 2, 3, 4]"
      ]
     },
     "execution_count": 56,
     "metadata": {},
     "output_type": "execute_result"
    }
   ],
   "source": [
    "a = 1\n",
    "b = [2, 3, 4]\n",
    "vals = [a, *b]\n",
    "vals"
   ]
  },
  {
   "cell_type": "code",
   "execution_count": 57,
   "metadata": {},
   "outputs": [
    {
     "name": "stdout",
     "output_type": "stream",
     "text": [
      "(1, 2, 3, 4, 5) <class 'tuple'> 10\n",
      "(1, 2, 3, 4, 5) <class 'tuple'> 20\n"
     ]
    }
   ],
   "source": [
    "# Operador estrela é uma tupla contendo quaisquer valores passados. Ele empacota os valores em lista (array).\n",
    "# Para passar o valor de `val`, necessário nomeá-lo.\n",
    "def func(*shape, val):\n",
    "    print(shape, type(shape), val)\n",
    "func(1, 2, 3, 4, 5, val = 10)\n",
    "\n",
    "def func2(val, *shape):\n",
    "    print(shape, type(shape), val)\n",
    "\n",
    "func2(20, 1, 2, 3, 4, 5)"
   ]
  },
  {
   "cell_type": "code",
   "execution_count": 58,
   "metadata": {},
   "outputs": [
    {
     "name": "stdout",
     "output_type": "stream",
     "text": [
      "(1, 2, 3, 4, 5)\n",
      "{}\n",
      "(1, 2, 3, 4, 5)\n",
      "{'val': 10, 'test': 'String', 'flag': True}\n"
     ]
    }
   ],
   "source": [
    "# Operador estrela é uma tupla contendo quaisquer valores passados. Ele empacota os valores em lista (array).\n",
    "# Operador dupla estrela é um dicionário, contendo tudo o que for passado, se válido. Ele empacota os valores em dicionário.\n",
    "def func(*args, **kwargs):\n",
    "    print(args)\n",
    "    print(kwargs)\n",
    "\n",
    "func(1, 2, 3, 4, 5)\n",
    "func(1, 2, 3, 4, 5, val = 10, test = 'String', flag = True)"
   ]
  },
  {
   "cell_type": "markdown",
   "metadata": {},
   "source": [
    "## Iteradores\n"
   ]
  },
  {
   "cell_type": "code",
   "execution_count": 59,
   "metadata": {},
   "outputs": [
    {
     "name": "stdout",
     "output_type": "stream",
     "text": [
      "a\n",
      "b\n",
      "c\n"
     ]
    }
   ],
   "source": [
    "vals = {'a': 1, 'b': 2, 'c': 3}\n",
    "vals_iter = iter(vals)\n",
    "print(next(vals_iter))\n",
    "print(next(vals_iter))\n",
    "print(next(vals_iter))"
   ]
  },
  {
   "cell_type": "markdown",
   "metadata": {},
   "source": [
    "## Classes em Python\n",
    "Métodos `dunder` habilitam as classes a trabalhar de forma específica.\n",
    "Dunder significa `double underscore`, mostrando os dois underscores antes e depois do nome da função. Ex: __getitem__\n",
    "Essa fnução permite que a classe se comporte como uma subscrição, sendo que o programador irá demonstrar o retorno desejado dentro da implementação dessa `dunder function`."
   ]
  },
  {
   "cell_type": "code",
   "execution_count": 60,
   "metadata": {},
   "outputs": [
    {
     "name": "stdout",
     "output_type": "stream",
     "text": [
      "55\n"
     ]
    },
    {
     "data": {
      "text/plain": [
       "[33, 155, 35, 36]"
      ]
     },
     "execution_count": 60,
     "metadata": {},
     "output_type": "execute_result"
    }
   ],
   "source": [
    "class Container:\n",
    "    def __init__(self, vals):\n",
    "        '''Constructor'''\n",
    "        self.vals = vals\n",
    "\n",
    "    def __getitem__(self, index):\n",
    "        return self.vals[index]\n",
    "    \n",
    "    def __setitem__(self, index, val):\n",
    "        self.vals[index] = val\n",
    "\n",
    "    def __len__(self):\n",
    "        return len(self.vals)\n",
    "    \n",
    "    def __call__(self, val):\n",
    "        print(val)\n",
    "\n",
    "    def __add__(self, val):\n",
    "        return self.sum(val)\n",
    "\n",
    "    def sum(self, num):\n",
    "        result = []\n",
    "        for val in self.vals:\n",
    "            result.append(val + num)\n",
    "\n",
    "        return result\n",
    "\n",
    "container = Container([1, 2, 3, 4])\n",
    "container.sum(10)\n",
    "container[1] = 123\n",
    "container[1]\n",
    "len(container)\n",
    "container(55)\n",
    "container + 32"
   ]
  },
  {
   "cell_type": "code",
   "execution_count": 61,
   "metadata": {},
   "outputs": [
    {
     "data": {
      "text/plain": [
       "[56, 57, 58, 59, 60]"
      ]
     },
     "execution_count": 61,
     "metadata": {},
     "output_type": "execute_result"
    }
   ],
   "source": [
    "class ContainerSub(Container):\n",
    "    def __init__(self, vals, n):\n",
    "        super().__init__(vals)\n",
    "        self.n = n\n",
    "\n",
    "container = ContainerSub([1, 2, 3, 4, 5], 9)\n",
    "container + 55"
   ]
  },
  {
   "cell_type": "markdown",
   "metadata": {},
   "source": [
    "## Anotador"
   ]
  },
  {
   "cell_type": "code",
   "execution_count": 65,
   "metadata": {},
   "outputs": [
    {
     "name": "stdout",
     "output_type": "stream",
     "text": [
      "Olá\n",
      "Olá\n"
     ]
    },
    {
     "data": {
      "text/plain": [
       "10"
      ]
     },
     "execution_count": 65,
     "metadata": {},
     "output_type": "execute_result"
    }
   ],
   "source": [
    "def transform(func):\n",
    "    print('Olá')\n",
    "    def new_func(val):\n",
    "        res = func(val)\n",
    "        return 2 * res\n",
    "    return new_func\n",
    "\n",
    "def ret(val):\n",
    "    return val\n",
    "\n",
    "double = transform(ret)\n",
    "double(3)\n",
    "\n",
    "@transform\n",
    "def ret2(val):\n",
    "    return val\n",
    "\n",
    "ret2(5)"
   ]
  },
  {
   "cell_type": "markdown",
   "metadata": {},
   "source": [
    "## Numpy"
   ]
  },
  {
   "cell_type": "code",
   "execution_count": null,
   "metadata": {},
   "outputs": [],
   "source": [
    "import numpy\n",
    "from numpy.random import rand\n",
    "\n",
    "rand"
   ]
  }
 ],
 "metadata": {
  "kernelspec": {
   "display_name": "base",
   "language": "python",
   "name": "python3"
  },
  "language_info": {
   "codemirror_mode": {
    "name": "ipython",
    "version": 3
   },
   "file_extension": ".py",
   "mimetype": "text/x-python",
   "name": "python",
   "nbconvert_exporter": "python",
   "pygments_lexer": "ipython3",
   "version": "3.12.2"
  }
 },
 "nbformat": 4,
 "nbformat_minor": 2
}
